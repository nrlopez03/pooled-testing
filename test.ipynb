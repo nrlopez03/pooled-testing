{
 "cells": [
  {
   "cell_type": "code",
   "execution_count": 1,
   "metadata": {},
   "outputs": [
    {
     "name": "stdout",
     "output_type": "stream",
     "text": [
      "No valid solution found.\n"
     ]
    }
   ],
   "source": [
    "import numpy as np\n",
    "from scipy.optimize import minimize\n",
    "\n",
    "def constraints(vars):\n",
    "    x, y, a, b = vars\n",
    "    \n",
    "    # Ensure x, y are in (0,1) and a, b > 0\n",
    "    if not (0 < x < 1 and 0 < y < 1 and a > 0 and b > 0):\n",
    "        return [1]  # Constraint violated\n",
    "    \n",
    "    # Compute auxiliary variables\n",
    "    i = (x * (1 - y)) / (1 - x * y)\n",
    "    j = (y * (1 - x)) / (1 - x * y)\n",
    "    \n",
    "    # Define constraints as inequalities\n",
    "    constraints_list = [\n",
    "        x * y * (a + b) - x * a,  # xy(a+b) ≥ xa\n",
    "        x * y * (a + b) - x * b,  # xy(a+b) ≥ xb\n",
    "        i * j * (a + b) - i * a,  # ij(a+b) ≥ ia\n",
    "        i * j * (a + b) - j * b   # ij(a+b) ≥ jb\n",
    "    ]\n",
    "    \n",
    "    # The constraints should be >= 0, so return min of them\n",
    "    return constraints_list\n",
    "\n",
    "def objective(vars):\n",
    "    return -sum(vars)  # Arbitrary function to allow optimization\n",
    "\n",
    "# Initial guess: x, y in (0,1), a, b > 0\n",
    "initial_guess = [0.5, 0.5, 1, 1]\n",
    "\n",
    "# Bounds: x, y in (0,1), a, b > 0\n",
    "bounds = [(1e-5, 1-1e-5), (1e-5, 1-1e-5), (1e-3, None), (1e-3, None)]\n",
    "\n",
    "# Minimize subject to constraints\n",
    "result = minimize(objective, initial_guess, bounds=bounds, constraints={'type': 'ineq', 'fun': constraints})\n",
    "\n",
    "if result.success:\n",
    "    x_opt, y_opt, a_opt, b_opt = result.x\n",
    "    print(f\"Valid solution found: x = {x_opt:.5f}, y = {y_opt:.5f}, a = {a_opt:.5f}, b = {b_opt:.5f}\")\n",
    "else:\n",
    "    print(\"No valid solution found.\")\n"
   ]
  },
  {
   "cell_type": "code",
   "execution_count": null,
   "metadata": {},
   "outputs": [],
   "source": [
    "import pandas as pd\n",
    "df = pd.read_csv(\"data/types/sample_N50_d2_B5_G5_Utils1.csv\")"
   ]
  },
  {
   "cell_type": "code",
   "execution_count": 19,
   "metadata": {},
   "outputs": [],
   "source": [
    "import pandas as pd\n",
    "df = pd.read_csv(\"finalsample.csv\")"
   ]
  },
  {
   "cell_type": "code",
   "execution_count": 20,
   "metadata": {},
   "outputs": [
    {
     "name": "stdout",
     "output_type": "stream",
     "text": [
      "solveMILP                       9.481\n",
      "solveSeqRLBucket                4.160\n",
      "solveConicGibbsGreedyDynamic    9.948\n",
      "dtype: float64\n"
     ]
    }
   ],
   "source": [
    "averages = df.mean(numeric_only=True)\n",
    "\n",
    "# Print the averages\n",
    "print(averages)"
   ]
  },
  {
   "cell_type": "code",
   "execution_count": 7,
   "metadata": {},
   "outputs": [
    {
     "name": "stdout",
     "output_type": "stream",
     "text": [
      "solveSeqRLBucket > solveMILP: 10.10% of rows\n"
     ]
    }
   ],
   "source": [
    "\n",
    "rl_col = 'solveSeqRLBucket'\n",
    "exclude_cols = {rl_col, 'agents'}\n",
    "other_columns = [col for col in df.columns if col not in exclude_cols]\n",
    "\n",
    "# Calculate the percentage for each column\n",
    "percentages = {\n",
    "    col: (df[rl_col] > df[col]).sum() / len(df) * 100\n",
    "    for col in other_columns\n",
    "}\n",
    "\n",
    "# Display the results\n",
    "for col, percentage in percentages.items():\n",
    "    print(f\"{rl_col} > {col}: {percentage:.2f}% of rows\")"
   ]
  }
 ],
 "metadata": {
  "kernelspec": {
   "display_name": "Python 3",
   "language": "python",
   "name": "python3"
  },
  "language_info": {
   "codemirror_mode": {
    "name": "ipython",
    "version": 3
   },
   "file_extension": ".py",
   "mimetype": "text/x-python",
   "name": "python",
   "nbconvert_exporter": "python",
   "pygments_lexer": "ipython3",
   "version": "3.8.10"
  }
 },
 "nbformat": 4,
 "nbformat_minor": 2
}
