{
 "cells": [
  {
   "cell_type": "code",
   "execution_count": null,
   "metadata": {},
   "outputs": [],
   "source": [
    "import pandas as pd\n",
    "df = pd.read_csv(\"data/types/sample_N50_d2_B5_G5_Utils1.csv\")"
   ]
  },
  {
   "cell_type": "code",
   "execution_count": 19,
   "metadata": {},
   "outputs": [],
   "source": [
    "import pandas as pd\n",
    "df = pd.read_csv(\"finalsample.csv\")"
   ]
  },
  {
   "cell_type": "code",
   "execution_count": 20,
   "metadata": {},
   "outputs": [
    {
     "name": "stdout",
     "output_type": "stream",
     "text": [
      "solveMILP                       9.481\n",
      "solveSeqRLBucket                4.160\n",
      "solveConicGibbsGreedyDynamic    9.948\n",
      "dtype: float64\n"
     ]
    }
   ],
   "source": [
    "averages = df.mean(numeric_only=True)\n",
    "\n",
    "# Print the averages\n",
    "print(averages)"
   ]
  },
  {
   "cell_type": "code",
   "execution_count": 7,
   "metadata": {},
   "outputs": [
    {
     "name": "stdout",
     "output_type": "stream",
     "text": [
      "solveSeqRLBucket > solveMILP: 10.10% of rows\n"
     ]
    }
   ],
   "source": [
    "\n",
    "rl_col = 'solveSeqRLBucket'\n",
    "exclude_cols = {rl_col, 'agents'}\n",
    "other_columns = [col for col in df.columns if col not in exclude_cols]\n",
    "\n",
    "# Calculate the percentage for each column\n",
    "percentages = {\n",
    "    col: (df[rl_col] > df[col]).sum() / len(df) * 100\n",
    "    for col in other_columns\n",
    "}\n",
    "\n",
    "# Display the results\n",
    "for col, percentage in percentages.items():\n",
    "    print(f\"{rl_col} > {col}: {percentage:.2f}% of rows\")"
   ]
  }
 ],
 "metadata": {
  "kernelspec": {
   "display_name": "Python 3",
   "language": "python",
   "name": "python3"
  },
  "language_info": {
   "codemirror_mode": {
    "name": "ipython",
    "version": 3
   },
   "file_extension": ".py",
   "mimetype": "text/x-python",
   "name": "python",
   "nbconvert_exporter": "python",
   "pygments_lexer": "ipython3",
   "version": "3.8.10"
  }
 },
 "nbformat": 4,
 "nbformat_minor": 2
}
